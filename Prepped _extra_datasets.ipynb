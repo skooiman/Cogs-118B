{
 "cells": [
  {
   "cell_type": "code",
   "execution_count": 2,
   "id": "708239a6",
   "metadata": {},
   "outputs": [],
   "source": [
    "#imports\n",
    "from os.path import dirname, join as pjoin\n",
    "import scipy.io as sio\n",
    "import numpy as np\n",
    "import matplotlib.pyplot as plt\n",
    "from numpy import genfromtxt\n",
    "from sklearn.datasets import load_digits\n",
    "from sklearn.decomposition import FastICA\n",
    "\n",
    "mat = sio.loadmat('S02_restingPre_EC.mat')\n",
    "data = mat[\"dataRest\"]\n",
    "datatransp = data.T\n",
    "my_data_closed2 = np.delete(datatransp,np.s_[65:68], axis=1)\n",
    "\n",
    "\n",
    "mat = sio.loadmat('S02_restingPre_EO.mat')\n",
    "data = mat[\"dataRest\"]\n",
    "datatransp = data.T\n",
    "my_data_open2 = np.delete(datatransp,np.s_[65:68], axis=1)\n",
    "\n",
    "\n",
    "mat = sio.loadmat('S03_restingPre_EC.mat')\n",
    "data = mat[\"dataRest\"]\n",
    "datatransp = data.T\n",
    "my_data_closed3 = np.delete(datatransp,np.s_[65:68], axis=1)\n",
    "\n",
    "\n",
    "mat = sio.loadmat('S03_restingPre_EO.mat')\n",
    "data = mat[\"dataRest\"]\n",
    "datatransp = data.T\n",
    "my_data_open3 = np.delete(datatransp,np.s_[65:68], axis=1)\n",
    "\n",
    "\n",
    "mat = sio.loadmat('S04_restingPre_EC.mat')\n",
    "data = mat[\"dataRest\"]\n",
    "datatransp = data.T\n",
    "my_data_closed4 = np.delete(datatransp,np.s_[65:68], axis=1)\n",
    "\n",
    "\n",
    "mat = sio.loadmat('S04_restingPre_EO.mat')\n",
    "data = mat[\"dataRest\"]\n",
    "datatransp = data.T\n",
    "my_data_open4 = np.delete(datatransp,np.s_[65:68], axis=1)"
   ]
  },
  {
   "cell_type": "markdown",
   "id": "89c3fb6a",
   "metadata": {},
   "source": [
    "6 new EEG data sets created from https://github.com/mastaneht/SPIS-Resting-State-Dataset\n",
    "64 channels 2.5 minutes\n",
    "\n",
    "my_data_closed2 <br>\n",
    "my_data_open2 <br>\n",
    "my_data_closed3 <br>\n",
    "my_data_open3 <br>\n",
    "my_data_closed4 <br>\n",
    "my_data_open4 <br>"
   ]
  }
 ],
 "metadata": {
  "kernelspec": {
   "display_name": "Python 3",
   "language": "python",
   "name": "python3"
  },
  "language_info": {
   "codemirror_mode": {
    "name": "ipython",
    "version": 3
   },
   "file_extension": ".py",
   "mimetype": "text/x-python",
   "name": "python",
   "nbconvert_exporter": "python",
   "pygments_lexer": "ipython3",
   "version": "3.8.8"
  }
 },
 "nbformat": 4,
 "nbformat_minor": 5
}
