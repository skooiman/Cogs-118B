{
 "cells": [
  {
   "cell_type": "code",
   "execution_count": 2,
   "id": "708239a6",
   "metadata": {},
   "outputs": [],
   "source": [
    "#imports\n",
    "from os.path import dirname, join as pjoin\n",
    "import scipy.io as sio\n",
    "import numpy as np\n",
    "import matplotlib.pyplot as plt\n",
    "from numpy import genfromtxt\n",
    "from sklearn.datasets import load_digits\n",
    "from sklearn.decomposition import FastICA\n",
    "\n",
    "mat = sio.loadmat('S02_restingPre_EC.mat')\n",
    "data = mat[\"dataRest\"]\n",
    "datatransp = data.T\n",
    "my_data_closed2 = np.delete(datatransp,np.s_[65:68], axis=1)\n",
    "\n",
    "\n",
    "mat = sio.loadmat('S02_restingPre_EO.mat')\n",
    "data = mat[\"dataRest\"]\n",
    "datatransp = data.T\n",
    "my_data_open2 = np.delete(datatransp,np.s_[65:68], axis=1)\n",
    "\n",
    "\n",
    "mat = sio.loadmat('S03_restingPre_EC.mat')\n",
    "data = mat[\"dataRest\"]\n",
    "datatransp = data.T\n",
    "my_data_closed3 = np.delete(datatransp,np.s_[65:68], axis=1)\n",
    "\n",
    "\n",
    "mat = sio.loadmat('S03_restingPre_EO.mat')\n",
    "data = mat[\"dataRest\"]\n",
    "datatransp = data.T\n",
    "my_data_open3 = np.delete(datatransp,np.s_[65:68], axis=1)\n",
    "\n",
    "\n",
    "mat = sio.loadmat('S04_restingPre_EC.mat')\n",
    "data = mat[\"dataRest\"]\n",
    "datatransp = data.T\n",
    "my_data_closed4 = np.delete(datatransp,np.s_[65:68], axis=1)\n",
    "\n",
    "\n",
    "mat = sio.loadmat('S04_restingPre_EO.mat')\n",
    "data = mat[\"dataRest\"]\n",
    "datatransp = data.T\n",
    "my_data_open4 = np.delete(datatransp,np.s_[65:68], axis=1)"
   ]
  },
  {
   "cell_type": "markdown",
   "id": "89c3fb6a",
   "metadata": {},
   "source": [
    "6 new EEG data sets created from https://github.com/mastaneht/SPIS-Resting-State-Dataset\n",
    "64 channels 2.5 minutes\n",
    "\n",
    "my_data_closed2 <br>\n",
    "my_data_open2 <br>\n",
    "my_data_closed3 <br>\n",
    "my_data_open3 <br>\n",
    "my_data_closed4 <br>\n",
    "my_data_open4 <br>"
   ]
  },
  {
   "cell_type": "markdown",
   "id": "2bdfeef1",
   "metadata": {},
   "source": [
    "data obtained from https://github.com/mastaneht/SPIS-Resting-State-Dataset\n",
    "\n",
    "\n",
    "                                    Reference\n",
    "M. Torkamani-Azar, S. D. Kanik, S. Aydin and M. Cetin, \"Prediction of Reaction Time and Vigilance Variability From Spatio-Spectral Features of Resting-State EEG in a Long Sustained Attention Task,\" in IEEE Journal of Biomedical and Health Informatics, vol. 24, no. 9, pp. 2550-2558, Sept. 2020, doi: 10.1109/JBHI.2020.2980056. https://ieeexplore.ieee.org/document/9034192"
   ]
  },
  {
   "cell_type": "code",
   "execution_count": null,
   "id": "9b3c2786",
   "metadata": {},
   "outputs": [],
   "source": []
  }
 ],
 "metadata": {
  "kernelspec": {
   "display_name": "Python 3",
   "language": "python",
   "name": "python3"
  },
  "language_info": {
   "codemirror_mode": {
    "name": "ipython",
    "version": 3
   },
   "file_extension": ".py",
   "mimetype": "text/x-python",
   "name": "python",
   "nbconvert_exporter": "python",
   "pygments_lexer": "ipython3",
   "version": "3.8.8"
  }
 },
 "nbformat": 4,
 "nbformat_minor": 5
}
